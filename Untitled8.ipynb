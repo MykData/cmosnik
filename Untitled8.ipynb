{
 "cells": [
  {
   "cell_type": "markdown",
   "id": "95ab907e-3f57-4215-97ea-cba03af2cd02",
   "metadata": {},
   "source": [
    "# Project for Data Analytics"
   ]
  },
  {
   "cell_type": "markdown",
   "id": "34e574fb-967d-4bde-a099-a294febeb309",
   "metadata": {},
   "source": [
    "## Step One: Creating a database"
   ]
  },
  {
   "cell_type": "code",
   "execution_count": 36,
   "id": "d7de98c2-f435-4854-bd69-d27331ad6b30",
   "metadata": {},
   "outputs": [],
   "source": [
    "#Modules used\n",
    "import mysql.connector\n",
    "import pandas as pd\n",
    "import fakeproject"
   ]
  },
  {
   "cell_type": "code",
   "execution_count": 40,
   "id": "55b6d7e3-5dde-4e1d-94f0-3f32621c3b56",
   "metadata": {},
   "outputs": [],
   "source": [
    "mydb = mysql.connector.connect(\n",
    "    host = 'localhost',\n",
    "    port = '3306',\n",
    "    user='root',\n",
    "    password =fakeproject.psw)\n",
    "cursor=mydb.cursor()\n",
    "cursor.execute(\"SHOW DATABASES\")"
   ]
  },
  {
   "cell_type": "code",
   "execution_count": 44,
   "id": "68fed2a4-7b5e-4a87-b046-15cd032967e7",
   "metadata": {},
   "outputs": [
    {
     "name": "stdout",
     "output_type": "stream",
     "text": [
      "done\n",
      "('information_schema',)\n",
      "('mydatabase',)\n",
      "('mysql',)\n",
      "('new_schema',)\n",
      "('newschema',)\n",
      "('performance_schema',)\n",
      "('project_eda',)\n",
      "('sakila',)\n",
      "('sys',)\n",
      "('world',)\n"
     ]
    }
   ],
   "source": [
    "cursor.execute(\"CREATE DATABASE Project_EDA\")\n",
    "print(\"done\")\n",
    "cursor.execute(\"SHOW DATABASES\")\n",
    "for i in cursor:\n",
    "    print(i)"
   ]
  },
  {
   "cell_type": "markdown",
   "id": "21147166-dc07-431c-8d7a-17f499f57cfd",
   "metadata": {},
   "source": [
    "## Importing data into the new database"
   ]
  },
  {
   "cell_type": "code",
   "execution_count": 359,
   "id": "2e97f6d1-301c-4bef-bc2f-b544b656b938",
   "metadata": {},
   "outputs": [
    {
     "name": "stdout",
     "output_type": "stream",
     "text": [
      "crashdata\n"
     ]
    }
   ],
   "source": [
    "cursor.execute(\"USE project_eda\")\n",
    "alldata=\"\"\"\n",
    "CREATE TABLE CrashData (\n",
    "    CRASH_DATE VARCHAR(255),\n",
    "    CRASH_TIME VARCHAR(255),\n",
    "    BOROUGH VARCHAR(255),\n",
    "    ZIP_CODE VARCHAR(255),\n",
    "    LATITUDE VARCHAR(255),\n",
    "    LONGITUDE VARCHAR(255),\n",
    "    ON_STREET_NAME VARCHAR(255),\n",
    "    CROSS_STREET_NAME VARCHAR(255),\n",
    "    OFF_STREET_NAME VARCHAR(255),\n",
    "    NUMBER_OF_PERSONS_INJURED INT,\n",
    "    NUMBER_OF_PERSONS_KILLED INT,\n",
    "    NUMBER_OF_PEDESTRIANS_INJURED INT,\n",
    "    NUMBER_OF_PEDESTRIANS_KILLED INT,\n",
    "    NUMBER_OF_CYCLIST_INJURED INT,\n",
    "    NUMBER_OF_CYCLIST_KILLED INT,\n",
    "    NUMBER_OF_MOTORIST_INJURED INT,\n",
    "    NUMBER_OF_MOTORIST_KILLED INT,\n",
    "    CONTRIBUTING_FACTOR_VEHICLE_1 VARCHAR(255),\n",
    "    CONTRIBUTING_FACTOR_VEHICLE_2 VARCHAR(255),\n",
    "    VEHICLE_TYPE_CODE_1 VARCHAR(255),\n",
    "    VEHICLE_TYPE_CODE_2 VARCHAR(255)\n",
    "    );\"\"\"\n",
    "cursor.execute(alldata)\n",
    "cursor.execute(\"SHOW TABLES\")\n",
    "for table in cursor:\n",
    "    print(table[0])"
   ]
  },
  {
   "cell_type": "markdown",
   "id": "ea8fe04e-d84d-4f23-af88-e8761dd4d943",
   "metadata": {},
   "source": [
    "## Loading the data into the database"
   ]
  },
  {
   "cell_type": "code",
   "execution_count": 379,
   "id": "42364aa5-84c4-4edb-b121-90ed3a1ce8c4",
   "metadata": {
    "scrolled": true
   },
   "outputs": [],
   "source": [
    "cursor.execute(\"SET sql_mode=''\")\n",
    "add_rows=\"\"\"INSERT INTO crashdata VALUES (%s, %s, %s, %s, %s, %s, %s, %s, %s, %s, %s, %s, %s, %s, %s, %s, %s, %s, %s, %s, %s);\"\"\"\n",
    "data=open(r\"C:\\Users\\mikas\\Downloads\\crashdata1.csv\",'r')\n",
    "rows=data.readlines()\n",
    "data.close()\n",
    "for row in rows[1392063:]:\n",
    "    # Split the row into values\n",
    "    values = row.strip().split(',')   \n",
    "    # Replace empty strings with None (NULL in SQL)\n",
    "    values = [None if item == 'NULL' else item for item in values]\n",
    "    cursor.execute(add_rows, tuple(values))\n",
    "# Commit the transaction\n",
    "    mydb.commit()"
   ]
  },
  {
   "cell_type": "markdown",
   "id": "cd1c40f1-ab06-4b1f-ad2e-6f0553255e59",
   "metadata": {},
   "source": [
    "Programa luzo ties 398355, 470984,470987, 1392061, 1392062"
   ]
  },
  {
   "cell_type": "code",
   "execution_count": 317,
   "id": "b23be7f7-bffe-4bbc-a0be-fc39f4f24b7c",
   "metadata": {},
   "outputs": [
    {
     "name": "stderr",
     "output_type": "stream",
     "text": [
      "C:\\Users\\mikas\\AppData\\Local\\Temp\\ipykernel_10832\\3877975192.py:1: DtypeWarning: Columns (3) have mixed types. Specify dtype option on import or set low_memory=False.\n",
      "  df=pd.read_csv(r\"C:\\Users\\mikas\\Downloads\\crashdata.csv\")\n"
     ]
    },
    {
     "data": {
      "text/html": [
       "<div>\n",
       "<style scoped>\n",
       "    .dataframe tbody tr th:only-of-type {\n",
       "        vertical-align: middle;\n",
       "    }\n",
       "\n",
       "    .dataframe tbody tr th {\n",
       "        vertical-align: top;\n",
       "    }\n",
       "\n",
       "    .dataframe thead th {\n",
       "        text-align: right;\n",
       "    }\n",
       "</style>\n",
       "<table border=\"1\" class=\"dataframe\">\n",
       "  <thead>\n",
       "    <tr style=\"text-align: right;\">\n",
       "      <th></th>\n",
       "      <th>CRASH DATE</th>\n",
       "      <th>CRASH TIME</th>\n",
       "      <th>BOROUGH</th>\n",
       "      <th>ZIP CODE</th>\n",
       "      <th>LATITUDE</th>\n",
       "      <th>LONGITUDE</th>\n",
       "      <th>LOCATION</th>\n",
       "      <th>ON STREET NAME</th>\n",
       "      <th>CROSS STREET NAME</th>\n",
       "      <th>OFF STREET NAME</th>\n",
       "      <th>...</th>\n",
       "      <th>CONTRIBUTING FACTOR VEHICLE 2</th>\n",
       "      <th>CONTRIBUTING FACTOR VEHICLE 3</th>\n",
       "      <th>CONTRIBUTING FACTOR VEHICLE 4</th>\n",
       "      <th>CONTRIBUTING FACTOR VEHICLE 5</th>\n",
       "      <th>COLLISION_ID</th>\n",
       "      <th>VEHICLE TYPE CODE 1</th>\n",
       "      <th>VEHICLE TYPE CODE 2</th>\n",
       "      <th>VEHICLE TYPE CODE 3</th>\n",
       "      <th>VEHICLE TYPE CODE 4</th>\n",
       "      <th>VEHICLE TYPE CODE 5</th>\n",
       "    </tr>\n",
       "  </thead>\n",
       "  <tbody>\n",
       "    <tr>\n",
       "      <th>0</th>\n",
       "      <td>09/11/2021</td>\n",
       "      <td>2:39</td>\n",
       "      <td>NaN</td>\n",
       "      <td>NaN</td>\n",
       "      <td>NaN</td>\n",
       "      <td>NaN</td>\n",
       "      <td>NaN</td>\n",
       "      <td>WHITESTONE EXPRESSWAY</td>\n",
       "      <td>20 AVENUE</td>\n",
       "      <td>NaN</td>\n",
       "      <td>...</td>\n",
       "      <td>Unspecified</td>\n",
       "      <td>NaN</td>\n",
       "      <td>NaN</td>\n",
       "      <td>NaN</td>\n",
       "      <td>4455765</td>\n",
       "      <td>Sedan</td>\n",
       "      <td>Sedan</td>\n",
       "      <td>NaN</td>\n",
       "      <td>NaN</td>\n",
       "      <td>NaN</td>\n",
       "    </tr>\n",
       "    <tr>\n",
       "      <th>1</th>\n",
       "      <td>03/26/2022</td>\n",
       "      <td>11:45</td>\n",
       "      <td>NaN</td>\n",
       "      <td>NaN</td>\n",
       "      <td>NaN</td>\n",
       "      <td>NaN</td>\n",
       "      <td>NaN</td>\n",
       "      <td>QUEENSBORO BRIDGE UPPER</td>\n",
       "      <td>NaN</td>\n",
       "      <td>NaN</td>\n",
       "      <td>...</td>\n",
       "      <td>NaN</td>\n",
       "      <td>NaN</td>\n",
       "      <td>NaN</td>\n",
       "      <td>NaN</td>\n",
       "      <td>4513547</td>\n",
       "      <td>Sedan</td>\n",
       "      <td>NaN</td>\n",
       "      <td>NaN</td>\n",
       "      <td>NaN</td>\n",
       "      <td>NaN</td>\n",
       "    </tr>\n",
       "    <tr>\n",
       "      <th>2</th>\n",
       "      <td>06/29/2022</td>\n",
       "      <td>6:55</td>\n",
       "      <td>NaN</td>\n",
       "      <td>NaN</td>\n",
       "      <td>NaN</td>\n",
       "      <td>NaN</td>\n",
       "      <td>NaN</td>\n",
       "      <td>THROGS NECK BRIDGE</td>\n",
       "      <td>NaN</td>\n",
       "      <td>NaN</td>\n",
       "      <td>...</td>\n",
       "      <td>Unspecified</td>\n",
       "      <td>NaN</td>\n",
       "      <td>NaN</td>\n",
       "      <td>NaN</td>\n",
       "      <td>4541903</td>\n",
       "      <td>Sedan</td>\n",
       "      <td>Pick-up Truck</td>\n",
       "      <td>NaN</td>\n",
       "      <td>NaN</td>\n",
       "      <td>NaN</td>\n",
       "    </tr>\n",
       "    <tr>\n",
       "      <th>3</th>\n",
       "      <td>09/11/2021</td>\n",
       "      <td>9:35</td>\n",
       "      <td>BROOKLYN</td>\n",
       "      <td>11208.0</td>\n",
       "      <td>40.667202</td>\n",
       "      <td>-73.866500</td>\n",
       "      <td>(40.667202, -73.8665)</td>\n",
       "      <td>NaN</td>\n",
       "      <td>NaN</td>\n",
       "      <td>1211      LORING AVENUE</td>\n",
       "      <td>...</td>\n",
       "      <td>NaN</td>\n",
       "      <td>NaN</td>\n",
       "      <td>NaN</td>\n",
       "      <td>NaN</td>\n",
       "      <td>4456314</td>\n",
       "      <td>Sedan</td>\n",
       "      <td>NaN</td>\n",
       "      <td>NaN</td>\n",
       "      <td>NaN</td>\n",
       "      <td>NaN</td>\n",
       "    </tr>\n",
       "    <tr>\n",
       "      <th>4</th>\n",
       "      <td>12/14/2021</td>\n",
       "      <td>8:13</td>\n",
       "      <td>BROOKLYN</td>\n",
       "      <td>11233.0</td>\n",
       "      <td>40.683304</td>\n",
       "      <td>-73.917274</td>\n",
       "      <td>(40.683304, -73.917274)</td>\n",
       "      <td>SARATOGA AVENUE</td>\n",
       "      <td>DECATUR STREET</td>\n",
       "      <td>NaN</td>\n",
       "      <td>...</td>\n",
       "      <td>NaN</td>\n",
       "      <td>NaN</td>\n",
       "      <td>NaN</td>\n",
       "      <td>NaN</td>\n",
       "      <td>4486609</td>\n",
       "      <td>NaN</td>\n",
       "      <td>NaN</td>\n",
       "      <td>NaN</td>\n",
       "      <td>NaN</td>\n",
       "      <td>NaN</td>\n",
       "    </tr>\n",
       "  </tbody>\n",
       "</table>\n",
       "<p>5 rows × 29 columns</p>\n",
       "</div>"
      ],
      "text/plain": [
       "   CRASH DATE CRASH TIME   BOROUGH ZIP CODE   LATITUDE  LONGITUDE  \\\n",
       "0  09/11/2021       2:39       NaN      NaN        NaN        NaN   \n",
       "1  03/26/2022      11:45       NaN      NaN        NaN        NaN   \n",
       "2  06/29/2022       6:55       NaN      NaN        NaN        NaN   \n",
       "3  09/11/2021       9:35  BROOKLYN  11208.0  40.667202 -73.866500   \n",
       "4  12/14/2021       8:13  BROOKLYN  11233.0  40.683304 -73.917274   \n",
       "\n",
       "                  LOCATION           ON STREET NAME CROSS STREET NAME  \\\n",
       "0                      NaN    WHITESTONE EXPRESSWAY         20 AVENUE   \n",
       "1                      NaN  QUEENSBORO BRIDGE UPPER               NaN   \n",
       "2                      NaN       THROGS NECK BRIDGE               NaN   \n",
       "3    (40.667202, -73.8665)                      NaN               NaN   \n",
       "4  (40.683304, -73.917274)          SARATOGA AVENUE    DECATUR STREET   \n",
       "\n",
       "           OFF STREET NAME  ...  CONTRIBUTING FACTOR VEHICLE 2  \\\n",
       "0                      NaN  ...                    Unspecified   \n",
       "1                      NaN  ...                            NaN   \n",
       "2                      NaN  ...                    Unspecified   \n",
       "3  1211      LORING AVENUE  ...                            NaN   \n",
       "4                      NaN  ...                            NaN   \n",
       "\n",
       "   CONTRIBUTING FACTOR VEHICLE 3  CONTRIBUTING FACTOR VEHICLE 4  \\\n",
       "0                            NaN                            NaN   \n",
       "1                            NaN                            NaN   \n",
       "2                            NaN                            NaN   \n",
       "3                            NaN                            NaN   \n",
       "4                            NaN                            NaN   \n",
       "\n",
       "   CONTRIBUTING FACTOR VEHICLE 5  COLLISION_ID  VEHICLE TYPE CODE 1  \\\n",
       "0                            NaN       4455765                Sedan   \n",
       "1                            NaN       4513547                Sedan   \n",
       "2                            NaN       4541903                Sedan   \n",
       "3                            NaN       4456314                Sedan   \n",
       "4                            NaN       4486609                  NaN   \n",
       "\n",
       "   VEHICLE TYPE CODE 2  VEHICLE TYPE CODE 3 VEHICLE TYPE CODE 4  \\\n",
       "0                Sedan                  NaN                 NaN   \n",
       "1                  NaN                  NaN                 NaN   \n",
       "2        Pick-up Truck                  NaN                 NaN   \n",
       "3                  NaN                  NaN                 NaN   \n",
       "4                  NaN                  NaN                 NaN   \n",
       "\n",
       "  VEHICLE TYPE CODE 5  \n",
       "0                 NaN  \n",
       "1                 NaN  \n",
       "2                 NaN  \n",
       "3                 NaN  \n",
       "4                 NaN  \n",
       "\n",
       "[5 rows x 29 columns]"
      ]
     },
     "execution_count": 317,
     "metadata": {},
     "output_type": "execute_result"
    }
   ],
   "source": [
    "df=pd.read_csv(r\"C:\\Users\\mikas\\Downloads\\crashdata.csv\")\n",
    "df.head()"
   ]
  },
  {
   "cell_type": "code",
   "execution_count": 96,
   "id": "65b1a33c-d672-4f2c-a640-83861de701a2",
   "metadata": {},
   "outputs": [
    {
     "name": "stderr",
     "output_type": "stream",
     "text": [
      "C:\\Users\\mikas\\AppData\\Local\\Temp\\ipykernel_10832\\671174874.py:1: FutureWarning: Setting an item of incompatible dtype is deprecated and will raise an error in a future version of pandas. Value 'NULL' has dtype incompatible with float64, please explicitly cast to a compatible dtype first.\n",
      "  df.fillna(\"NULL\", inplace=True)\n"
     ]
    }
   ],
   "source": [
    "df.fillna(\"NULL\", inplace=True)"
   ]
  },
  {
   "cell_type": "code",
   "execution_count": 251,
   "id": "76e3d263-88ca-4784-b197-3e3132f78c7b",
   "metadata": {},
   "outputs": [
    {
     "ename": "AttributeError",
     "evalue": "'NoneType' object has no attribute 'info'",
     "output_type": "error",
     "traceback": [
      "\u001b[1;31m---------------------------------------------------------------------------\u001b[0m",
      "\u001b[1;31mAttributeError\u001b[0m                            Traceback (most recent call last)",
      "Cell \u001b[1;32mIn[251], line 1\u001b[0m\n\u001b[1;32m----> 1\u001b[0m df\u001b[38;5;241m.\u001b[39minfo()\n",
      "\u001b[1;31mAttributeError\u001b[0m: 'NoneType' object has no attribute 'info'"
     ]
    }
   ],
   "source": [
    "df.info()"
   ]
  },
  {
   "cell_type": "markdown",
   "id": "ab45bc0d-7c44-4f23-a48e-f26be03e38ba",
   "metadata": {},
   "source": [
    "## Data Cleaning\n"
   ]
  },
  {
   "cell_type": "markdown",
   "id": "c6488f9a-29b3-49a6-a0bb-53d035c2e11e",
   "metadata": {},
   "source": [
    "This is due to the fact that the dataset contains over two million records of collisions, but most of the crash facts are null or unspecified, so getting rid of some of the empty columns or rows may be beneficial to our research and create a smaller, but more useful dataset"
   ]
  },
  {
   "cell_type": "code",
   "execution_count": 319,
   "id": "6a0565bf-0d26-48d0-8551-9040d2eb52a7",
   "metadata": {},
   "outputs": [],
   "source": [
    "df = df.drop('LOCATION', axis=1)\n",
    "df=df.drop([\"VEHICLE TYPE CODE 3\",\"VEHICLE TYPE CODE 4\",\"VEHICLE TYPE CODE 5\"],axis=1)\n",
    "df=df.drop([\"CONTRIBUTING FACTOR VEHICLE 3\",\"CONTRIBUTING FACTOR VEHICLE 4\",\"CONTRIBUTING FACTOR VEHICLE 5\"],axis=1)\n",
    "df=df.drop(\"COLLISION_ID\",axis=1)"
   ]
  },
  {
   "cell_type": "code",
   "execution_count": 321,
   "id": "ff6eedd8-adcd-48b0-be3b-1bfcfbd923f5",
   "metadata": {},
   "outputs": [],
   "source": [
    "# df.dropna(subset=[\"BOROUGH\"],inplace=True)\n",
    "# df.dropna(subset=[\"VEHICLE TYPE CODE 1\"],inplace=True)\n",
    "# df.dropna(subset=[\"CONTRIBUTING FACTOR VEHICLE 1\"],inplace=True)\n",
    "# df.dropna(subset=[\"ZIP CODE\"],inplace=True)\n",
    "# df.dropna(subset=[\"LATITUDE\"],inplace=True)"
   ]
  },
  {
   "cell_type": "code",
   "execution_count": 329,
   "id": "c930d2dc-c740-479b-afb1-ef741a2f5cd5",
   "metadata": {},
   "outputs": [],
   "source": [
    "df[\"LATITUDE\"]=df[\"LATITUDE\"].astype(float)\n",
    "df[\"LONGITUDE\"]=df[\"LONGITUDE\"].astype(float)\n",
    "df[\"NUMBER OF PERSONS INJURED\"]=df[\"NUMBER OF PERSONS INJURED\"].astype('Int64')\n",
    "df[\"NUMBER OF PERSONS KILLED\"]=df[\"NUMBER OF PERSONS KILLED\"].astype('Int64')\n",
    "df[\"NUMBER OF PEDESTRIANS INJURED\"]=df[\"NUMBER OF PEDESTRIANS INJURED\"].astype('Int64')\n",
    "df[\"NUMBER OF PEDESTRIANS KILLED\"]=df[\"NUMBER OF PEDESTRIANS KILLED\"].astype('Int64')\n",
    "df[\"NUMBER OF CYCLIST INJURED\"]=df[\"NUMBER OF CYCLIST INJURED\"].astype('Int64')\n",
    "df[\"NUMBER OF CYCLIST KILLED\"]=df[\"NUMBER OF CYCLIST KILLED\"].astype('Int64')\n",
    "df[\"NUMBER OF MOTORIST INJURED\"]=df[\"NUMBER OF MOTORIST INJURED\"].astype('Int64')\n",
    "df[\"NUMBER OF MOTORIST KILLED\"]=df[\"NUMBER OF MOTORIST KILLED\"].astype('Int64')"
   ]
  },
  {
   "cell_type": "code",
   "execution_count": 345,
   "id": "ef67ec13-7fb2-4406-ac6a-78800c1de734",
   "metadata": {},
   "outputs": [],
   "source": [
    "df.dropna(subset=[\"NUMBER OF PERSONS INJURED\"],inplace=True)"
   ]
  },
  {
   "cell_type": "code",
   "execution_count": 347,
   "id": "ce77ef9f-9774-4d8b-93cf-48f209285feb",
   "metadata": {},
   "outputs": [
    {
     "name": "stdout",
     "output_type": "stream",
     "text": [
      "<class 'pandas.core.frame.DataFrame'>\n",
      "Index: 1426074 entries, 3 to 2141019\n",
      "Data columns (total 21 columns):\n",
      " #   Column                         Non-Null Count    Dtype  \n",
      "---  ------                         --------------    -----  \n",
      " 0   CRASH DATE                     1426074 non-null  object \n",
      " 1   CRASH TIME                     1426074 non-null  object \n",
      " 2   BOROUGH                        1426074 non-null  object \n",
      " 3   ZIP CODE                       1426074 non-null  object \n",
      " 4   LATITUDE                       1426074 non-null  float64\n",
      " 5   LONGITUDE                      1426074 non-null  float64\n",
      " 6   ON STREET NAME                 1426074 non-null  object \n",
      " 7   CROSS STREET NAME              1426074 non-null  object \n",
      " 8   OFF STREET NAME                1426074 non-null  object \n",
      " 9   NUMBER OF PERSONS INJURED      1426074 non-null  Int64  \n",
      " 10  NUMBER OF PERSONS KILLED       1426074 non-null  Int64  \n",
      " 11  NUMBER OF PEDESTRIANS INJURED  1426074 non-null  Int64  \n",
      " 12  NUMBER OF PEDESTRIANS KILLED   1426074 non-null  Int64  \n",
      " 13  NUMBER OF CYCLIST INJURED      1426074 non-null  Int64  \n",
      " 14  NUMBER OF CYCLIST KILLED       1426074 non-null  Int64  \n",
      " 15  NUMBER OF MOTORIST INJURED     1426074 non-null  Int64  \n",
      " 16  NUMBER OF MOTORIST KILLED      1426074 non-null  Int64  \n",
      " 17  CONTRIBUTING FACTOR VEHICLE 1  1426074 non-null  object \n",
      " 18  CONTRIBUTING FACTOR VEHICLE 2  1426074 non-null  object \n",
      " 19  VEHICLE TYPE CODE 1            1426074 non-null  object \n",
      " 20  VEHICLE TYPE CODE 2            1426074 non-null  object \n",
      "dtypes: Int64(8), float64(2), object(11)\n",
      "memory usage: 250.2+ MB\n"
     ]
    }
   ],
   "source": [
    "df.info()"
   ]
  },
  {
   "cell_type": "code",
   "execution_count": 349,
   "id": "468c24bf-9749-4f71-9213-58ead90b4b03",
   "metadata": {},
   "outputs": [],
   "source": [
    "df.fillna(\"NULL\", inplace=True)"
   ]
  },
  {
   "cell_type": "code",
   "execution_count": 353,
   "id": "c8279749-b333-4a3c-bc44-29d22b255d02",
   "metadata": {},
   "outputs": [],
   "source": [
    "df.to_csv(r\"C:\\Users\\mikas\\Downloads\\crashdata1.csv\",index=False)"
   ]
  },
  {
   "cell_type": "code",
   "execution_count": null,
   "id": "c7deb9b7-eaf9-4f66-bf7e-220385105277",
   "metadata": {},
   "outputs": [],
   "source": []
  }
 ],
 "metadata": {
  "kernelspec": {
   "display_name": "Python 3 (ipykernel)",
   "language": "python",
   "name": "python3"
  },
  "language_info": {
   "codemirror_mode": {
    "name": "ipython",
    "version": 3
   },
   "file_extension": ".py",
   "mimetype": "text/x-python",
   "name": "python",
   "nbconvert_exporter": "python",
   "pygments_lexer": "ipython3",
   "version": "3.12.7"
  }
 },
 "nbformat": 4,
 "nbformat_minor": 5
}
